{
 "cells": [
  {
   "cell_type": "markdown",
   "metadata": {},
   "source": [
    "# Points"
   ]
  },
  {
   "cell_type": "code",
   "execution_count": 9,
   "metadata": {
    "collapsed": true
   },
   "outputs": [],
   "source": [
    "%matplotlib inline\n",
    "\n",
    "import numpy as np\n",
    "import pandas as pd\n",
    "import geopandas as gpd\n",
    "import pysal as ps"
   ]
  },
  {
   "cell_type": "markdown",
   "metadata": {},
   "source": [
    "## Data"
   ]
  },
  {
   "cell_type": "markdown",
   "metadata": {},
   "source": [
    "* Description of the data and paths"
   ]
  },
  {
   "cell_type": "code",
   "execution_count": 10,
   "metadata": {
    "collapsed": true
   },
   "outputs": [],
   "source": [
    "lsoas_path = '../../../../data/Liverpool/shapefiles/Liverpool_lsoa11.shp'\n",
    "tw_path = '../../../../data/Tweets_Liverpool.csv'"
   ]
  },
  {
   "cell_type": "markdown",
   "metadata": {},
   "source": [
    "* Load up the data"
   ]
  },
  {
   "cell_type": "code",
   "execution_count": 8,
   "metadata": {
    "collapsed": false
   },
   "outputs": [
    {
     "name": "stdout",
     "output_type": "stream",
     "text": [
      "<class 'pandas.core.frame.DataFrame'>\n",
      "Int64Index: 316104 entries, 0 to 316103\n",
      "Data columns (total 10 columns):\n",
      "﻿USERID       316104 non-null int64\n",
      "TWEET_TEXT    316104 non-null object\n",
      "LAT           316104 non-null float64\n",
      "LON           316104 non-null float64\n",
      "YEAR          316104 non-null int64\n",
      "MONTH         316104 non-null int64\n",
      "DAY           316104 non-null int64\n",
      "DOW           316104 non-null int64\n",
      "HOUR          316104 non-null int64\n",
      "MINUTE        316104 non-null int64\n",
      "dtypes: float64(2), int64(7), object(1)\n",
      "memory usage: 26.5+ MB\n"
     ]
    }
   ],
   "source": [
    "tw_all = pd.read_csv(tw_path)\n",
    "tw_all.info()"
   ]
  },
  {
   "cell_type": "markdown",
   "metadata": {},
   "source": [
    "* Random sample"
   ]
  },
  {
   "cell_type": "code",
   "execution_count": 12,
   "metadata": {
    "collapsed": false
   },
   "outputs": [
    {
     "name": "stdout",
     "output_type": "stream",
     "text": [
      "<class 'pandas.core.frame.DataFrame'>\n",
      "Int64Index: 10000 entries, 192341 to 15686\n",
      "Data columns (total 10 columns):\n",
      "﻿USERID       10000 non-null int64\n",
      "TWEET_TEXT    10000 non-null object\n",
      "LAT           10000 non-null float64\n",
      "LON           10000 non-null float64\n",
      "YEAR          10000 non-null int64\n",
      "MONTH         10000 non-null int64\n",
      "DAY           10000 non-null int64\n",
      "DOW           10000 non-null int64\n",
      "HOUR          10000 non-null int64\n",
      "MINUTE        10000 non-null int64\n",
      "dtypes: float64(2), int64(7), object(1)\n",
      "memory usage: 859.4+ KB\n"
     ]
    }
   ],
   "source": [
    "ri = np.arange(tw_all.shape[0])\n",
    "np.random.shuffle(ri)\n",
    "tw = tw_all.iloc[ri[:10000], :]\n",
    "tw.info()"
   ]
  },
  {
   "cell_type": "markdown",
   "metadata": {},
   "source": [
    "* Convert into Geodataframe"
   ]
  },
  {
   "cell_type": "markdown",
   "metadata": {},
   "source": [
    "* Set projection"
   ]
  },
  {
   "cell_type": "markdown",
   "metadata": {},
   "source": [
    "* Plot"
   ]
  },
  {
   "cell_type": "markdown",
   "metadata": {},
   "source": [
    "## Aggregation to polygons"
   ]
  },
  {
   "cell_type": "markdown",
   "metadata": {},
   "source": [
    "* Point-in-polygon with LSOAs"
   ]
  },
  {
   "cell_type": "code",
   "execution_count": 6,
   "metadata": {
    "collapsed": false
   },
   "outputs": [
    {
     "name": "stdout",
     "output_type": "stream",
     "text": [
      "<class 'pandas.core.frame.DataFrame'>\n",
      "Int64Index: 316104 entries, 0 to 316103\n",
      "Data columns (total 10 columns):\n",
      "﻿USERID       316104 non-null int64\n",
      "TWEET_TEXT    316104 non-null object\n",
      "LAT           316104 non-null float64\n",
      "LON           316104 non-null float64\n",
      "YEAR          316104 non-null int64\n",
      "MONTH         316104 non-null int64\n",
      "DAY           316104 non-null int64\n",
      "DOW           316104 non-null int64\n",
      "HOUR          316104 non-null int64\n",
      "MINUTE        316104 non-null int64\n",
      "dtypes: float64(2), int64(7), object(1)\n",
      "memory usage: 26.5+ MB\n"
     ]
    }
   ],
   "source": [
    "tw.info()"
   ]
  },
  {
   "cell_type": "markdown",
   "metadata": {},
   "source": [
    "* Hexbin"
   ]
  },
  {
   "cell_type": "markdown",
   "metadata": {},
   "source": [
    "## Kernel Density Estimation"
   ]
  }
 ],
 "metadata": {
  "kernelspec": {
   "display_name": "Python 2",
   "language": "python",
   "name": "python2"
  },
  "language_info": {
   "codemirror_mode": {
    "name": "ipython",
    "version": 2
   },
   "file_extension": ".py",
   "mimetype": "text/x-python",
   "name": "python",
   "nbconvert_exporter": "python",
   "pygments_lexer": "ipython2",
   "version": "2.7.10"
  }
 },
 "nbformat": 4,
 "nbformat_minor": 0
}
