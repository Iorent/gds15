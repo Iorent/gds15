{
 "cells": [
  {
   "cell_type": "markdown",
   "metadata": {},
   "source": [
    "# Mapping in Python with `geopandas`"
   ]
  },
  {
   "cell_type": "code",
   "execution_count": 46,
   "metadata": {
    "collapsed": true
   },
   "outputs": [],
   "source": [
    "%matplotlib inline\n",
    "\n",
    "import matplotlib.pyplot as plt\n",
    "import geopandas as gpd"
   ]
  },
  {
   "cell_type": "markdown",
   "metadata": {},
   "source": [
    "In this lab, we will learn how to load, manipulate and visualize spatial data. In some senses, spatial data have become so pervasive that nowadays, they are usually included simply as \"one more column\" in a table. However, *spatial is special* and there are few aspects in which geographic data differ from standard numerical tables. In this session, we will extend the skills developed in the previous one about non-spatial data, and combine them. In the process, we will discover that, although with some particularities, dealing with spatial data in Python largely resembles dealing with non-spatial data.\n",
    "\n",
    "To learn these concepts, we will be playing again with the geography of Liverpool. In particular we will use Census geographies and Ordnance Survey geospatial data, available to download also from the CDRC data store (link). To make the rest of the notebook easier to follow, let us set the paths to the main two folders here. We will call the path to the Liverpool Census pack `lcp_dir`, and that to the OS geodata `los_dir`:"
   ]
  },
  {
   "cell_type": "code",
   "execution_count": 55,
   "metadata": {
    "collapsed": true
   },
   "outputs": [],
   "source": [
    "lcp_dir = '/media/dani/baul/AAA/Documents/teaching/u-lvl/2015/geocomp/data/Liverpool/'\n",
    "los_dir = '../E08000012/'"
   ]
  },
  {
   "cell_type": "markdown",
   "metadata": {},
   "source": [
    "## Loading up spatial data"
   ]
  },
  {
   "cell_type": "markdown",
   "metadata": {},
   "source": [
    "The easiest way to get from a file to a quick visualization of the data is by loading it as a `GeoDataFrame` and calling the `plot` command. The main library employed for all of this is `geopandas` which is a geospatial extension of the `pandas` library, already introduced before. `geopandas` supports exactly the same functionality that `pandas` does (in fact since it is built on top of it, so most of the underlying machinery is pure `pandas`), plus a wide range of spatial counterparts that make manipulation and general \"munging\" of spatial data as easy as non-spatial tables.\n",
    "\n",
    "In two lines of code, we will obtain a graphical representation of the spatial data contained in a file that can be in many formats; actually, since it uses the same drivers under the hood, you can load pretty much the same kind of vector files that QGIS permits. Let us start by plotting single layers in a crude but quick form, and we will build style and sophistication into our plots later on."
   ]
  },
  {
   "cell_type": "markdown",
   "metadata": {},
   "source": [
    "* Polygons"
   ]
  },
  {
   "cell_type": "markdown",
   "metadata": {},
   "source": [
    "Let us begin with the most common type of spatial data in the social science: polygons. For example, we can load the geography of LSOAs in Liverpool with the following lines of code:"
   ]
  },
  {
   "cell_type": "code",
   "execution_count": 56,
   "metadata": {
    "collapsed": true
   },
   "outputs": [],
   "source": [
    "lsoas_link = lcp_dir + 'shapefiles/Liverpool_lsoa11.shp'\n",
    "lsoas = gpd.read_file(lsoas_link)"
   ]
  },
  {
   "cell_type": "markdown",
   "metadata": {},
   "source": [
    "Now `lsoas` is a `GeoDataFrame`. Very similar to a traditional, non-spatial `DataFrame`, but with an additional column called `geometry`:"
   ]
  },
  {
   "cell_type": "code",
   "execution_count": 57,
   "metadata": {
    "collapsed": false
   },
   "outputs": [
    {
     "data": {
      "text/html": [
       "<div>\n",
       "<table border=\"1\" class=\"dataframe\">\n",
       "  <thead>\n",
       "    <tr style=\"text-align: right;\">\n",
       "      <th></th>\n",
       "      <th>LSOA11CD</th>\n",
       "      <th>geometry</th>\n",
       "    </tr>\n",
       "  </thead>\n",
       "  <tbody>\n",
       "    <tr>\n",
       "      <th>0</th>\n",
       "      <td>E01006512</td>\n",
       "      <td>POLYGON ((336103.358 389628.58, 336103.416 389...</td>\n",
       "    </tr>\n",
       "    <tr>\n",
       "      <th>1</th>\n",
       "      <td>E01006513</td>\n",
       "      <td>POLYGON ((335173.781 389691.538, 335169.798 38...</td>\n",
       "    </tr>\n",
       "    <tr>\n",
       "      <th>2</th>\n",
       "      <td>E01006514</td>\n",
       "      <td>POLYGON ((335495.676 389697.267, 335495.444 38...</td>\n",
       "    </tr>\n",
       "    <tr>\n",
       "      <th>3</th>\n",
       "      <td>E01006515</td>\n",
       "      <td>POLYGON ((334953.001 389029, 334951 389035, 33...</td>\n",
       "    </tr>\n",
       "    <tr>\n",
       "      <th>4</th>\n",
       "      <td>E01006518</td>\n",
       "      <td>POLYGON ((335354.015 388601.947, 335354 388602...</td>\n",
       "    </tr>\n",
       "  </tbody>\n",
       "</table>\n",
       "</div>"
      ],
      "text/plain": [
       "    LSOA11CD                                           geometry\n",
       "0  E01006512  POLYGON ((336103.358 389628.58, 336103.416 389...\n",
       "1  E01006513  POLYGON ((335173.781 389691.538, 335169.798 38...\n",
       "2  E01006514  POLYGON ((335495.676 389697.267, 335495.444 38...\n",
       "3  E01006515  POLYGON ((334953.001 389029, 334951 389035, 33...\n",
       "4  E01006518  POLYGON ((335354.015 388601.947, 335354 388602..."
      ]
     },
     "execution_count": 57,
     "metadata": {},
     "output_type": "execute_result"
    }
   ],
   "source": [
    "lsoas.head()"
   ]
  },
  {
   "cell_type": "markdown",
   "metadata": {},
   "source": [
    "This allows us to quickly produce a plot by executing the following line:"
   ]
  },
  {
   "cell_type": "code",
   "execution_count": 58,
   "metadata": {
    "collapsed": false
   },
   "outputs": [
    {
     "data": {
      "text/plain": [
       "<matplotlib.axes._subplots.AxesSubplot at 0x7f6453bcad10>"
      ]
     },
     "execution_count": 58,
     "metadata": {},
     "output_type": "execute_result"
    },
    {
     "data": {
      "image/png": "[encoded data removed]",
      "text/plain": [
       "<matplotlib.figure.Figure at 0x7f6453bca590>"
      ]
     },
     "metadata": {},
     "output_type": "display_data"
    }
   ],
   "source": [
    "lsoas.plot()"
   ]
  },
  {
   "cell_type": "markdown",
   "metadata": {},
   "source": [
    "This might not be the most aesthetically pleasant visual representation of the LSOAs geography, but it is hard to argue it is not quick to produce. We will work on styling and customizing spatial plots later on."
   ]
  },
  {
   "cell_type": "markdown",
   "metadata": {},
   "source": [
    "**Pro-tip**: if you call a single row of the `geometry` column, it'll return a small plot ith the shape:"
   ]
  },
  {
   "cell_type": "code",
   "execution_count": 63,
   "metadata": {
    "collapsed": false
   },
   "outputs": [
    {
     "data": {
      "image/svg+xml": [
       "<svg xmlns=\"http://www.w3.org/2000/svg\" xmlns:xlink=\"http://www.w3.org/1999/xlink\" width=\"300\" height=\"300\" viewBox=\"335713.03448 389274.22248 814.06704 875.19204\" preserveAspectRatio=\"xMinYMin meet\"><g transform=\"matrix(1,0,0,-1,0,779423.637)\"><path fill-rule=\"evenodd\" fill=\"#66cc99\" stroke=\"#555555\" stroke-width=\"5.8346136\" opacity=\"0.6\" d=\"M 336103.358,389628.58 L 336103.416,389629.156 L 336103.42,389629.199 L 336103.915,389634.145 L 336104.519,389640.186 L 336104.809,389643.091 L 336106.552,389660.519 L 336106.662,389661.624 L 336107.731,389672.316 L 336107.865,389673.655 L 336109.001,389685.0 L 336109.16,389686.588 L 336109.542,389690.407 L 336111.539,389710.382 L 336111.982,389714.811 L 336112.318,389718.177 L 336114.444,389739.445 L 336115.955,389754.547 L 336110.689,389755.0 L 336108.0,389755.0 L 336091.46,389756.378 L 336064.607,389758.616 L 336048.267,389759.978 L 336048.0,389760.0 L 336041.158,389760.57 L 336032.888,389761.26 L 336015.878,389762.677 L 336004.363,389763.636 L 336000.0,389764.0 L 335988.942,389765.053 L 335978.999,389766.0 L 335977.0,389748.0 L 335962.0,389749.0 L 335929.0,389753.0 L 335923.629,389753.477 L 335907.504,389754.911 L 335904.401,389755.186 L 335884.48,389756.957 L 335884.0,389757.0 L 335880.0,389757.0 L 335872.798,389756.446 L 335867.0,389756.0 L 335859.0,389756.0 L 335859.962,389766.107 L 335861.0,389777.0 L 335850.05,389777.996 L 335846.137,389778.351 L 335833.006,389779.545 L 335821.278,389780.611 L 335817.0,389781.0 L 335813.505,389738.357 L 335812.0,389720.0 L 335811.0,389719.0 L 335809.0,389719.0 L 335778.0,389722.0 L 335778.139,389722.93 L 335778.161,389723.077 L 335781.0,389742.0 L 335786.0,389755.0 L 335787.008,389759.034 L 335787.6,389761.399 L 335789.0,389767.0 L 335789.89,389782.137 L 335790.001,389784.0 L 335792.0,389807.0 L 335792.407,389809.846 L 335796.503,389838.521 L 335797.0,389842.0 L 335797.489,389845.908 L 335798.0,389850.0 L 335802.362,389892.045 L 335805.095,389918.371 L 335803.603,389921.081 L 335802.117,389923.778 L 335801.163,389925.51 L 335769.079,389934.26 L 335758.411,389937.17 L 335758.132,389937.631 L 335745.449,389958.628 L 335745.572,389958.827 L 335755.671,389975.033 L 335761.448,389984.303 L 335763.458,389987.529 L 335783.568,389992.243 L 335788.537,389993.408 L 335812.539,389999.035 L 335812.938,389999.225 L 335813.0,390000.0 L 335815.966,390029.066 L 335818.0,390049.0 L 335825.0,390113.0 L 335826.0,390117.0 L 335829.0,390117.0 L 335865.036,390113.867 L 335874.726,390113.024 L 335875.0,390113.0 L 335895.0,390111.0 L 335894.0,390105.0 L 335893.968,390104.667 L 335889.025,390052.761 L 335888.0,390042.0 L 335899.904,390040.724 L 335980.379,390032.102 L 335987.586,390031.33 L 336000.0,390030.0 L 336002.361,390029.785 L 336011.0,390029.0 L 336044.421,390025.867 L 336075.0,390023.0 L 336087.841,390021.678 L 336143.0,390016.001 L 336144.572,390015.843 L 336176.528,390012.647 L 336203.0,390010.0 L 336216.839,390008.462 L 336218.134,390011.627 L 336229.5,390010.786 L 336232.094,390010.594 L 336240.04,390011.675 L 336242.01,390011.943 L 336251.694,390013.262 L 336251.837,390013.282 L 336273.186,390016.187 L 336274.63,390013.233 L 336278.049,390006.234 L 336278.182,390005.964 L 336281.094,390000.0 L 336292.5,389982.312 L 336293.75,389979.782 L 336293.902,389979.473 L 336293.914,389979.45 L 336294.253,389978.764 L 336297.789,389971.603 L 336298.092,389970.989 L 336302.067,389962.94 L 336308.334,389950.251 L 336308.347,389950.225 L 336309.028,389948.845 L 336309.238,389948.42 L 336314.619,389937.524 L 336315.339,389936.067 L 336315.418,389935.907 L 336316.049,389934.63 L 336316.091,389934.545 L 336316.28,389934.162 L 336318.746,389929.169 L 336319.355,389927.935 L 336325.194,389916.114 L 336326.2,389914.077 L 336327.687,389911.064 L 336327.841,389910.754 L 336329.0,389908.406 L 336334.596,389897.332 L 336334.893,389896.744 L 336339.466,389887.692 L 336339.625,389887.377 L 336348.942,389868.938 L 336354.375,389858.191 L 336354.564,389857.817 L 336357.879,389851.257 L 336362.068,389842.968 L 336362.652,389841.813 L 336363.795,389839.549 L 336364.019,389839.106 L 336373.507,389820.329 L 336373.532,389820.281 L 336381.561,389804.391 L 336382.176,389803.175 L 336382.285,389802.958 L 336391.312,389785.094 L 336396.252,389773.806 L 336396.6,389773.012 L 336397.122,389771.818 L 336399.312,389766.812 L 336405.317,389740.965 L 336410.187,389720.0 L 336413.221,389703.28 L 336417.888,389677.552 L 336418.796,389672.55 L 336419.894,389666.5 L 336422.234,389653.603 L 336422.76,389650.704 L 336423.794,389645.0 L 336424.465,389641.301 L 336424.502,389641.101 L 336424.519,389641.006 L 336424.594,389640.594 L 336424.788,389639.833 L 336426.024,389635.0 L 336426.307,389633.89 L 336428.324,389626.0 L 336429.267,389622.313 L 336430.387,389617.932 L 336436.494,389594.043 L 336437.825,389588.837 L 336439.874,389580.825 L 336441.005,389576.397 L 336441.603,389574.061 L 336441.755,389573.464 L 336444.817,389561.488 L 336444.846,389561.394 L 336445.1,389560.4 L 336445.531,389559.15 L 336445.561,389559.05 L 336453.759,389535.254 L 336454.864,389532.049 L 336456.0,389528.75 L 336456.511,389527.267 L 336459.763,389517.828 L 336459.912,389517.395 L 336460.096,389516.862 L 336463.08,389508.2 L 336466.071,389499.518 L 336466.246,389499.012 L 336466.906,389497.094 L 336469.156,389489.969 L 336469.634,389488.456 L 336471.171,389483.583 L 336471.27,389483.27 L 336473.241,389477.027 L 336474.046,389474.478 L 336474.839,389471.966 L 336478.861,389459.225 L 336479.398,389457.523 L 336481.01,389452.417 L 336481.889,389449.633 L 336483.556,389444.354 L 336486.373,389435.432 L 336493.666,389412.328 L 336494.074,389411.039 L 336494.146,389410.81 L 336494.223,389410.567 L 336494.687,389409.095 L 336494.022,389408.933 L 336489.194,389407.764 L 336475.788,389404.52 L 336465.911,389402.13 L 336465.02,389401.914 L 336436.084,389394.912 L 336432.0,389393.924 L 336421.276,389391.329 L 336406.089,389387.653 L 336392.967,389384.478 L 336391.307,389384.077 L 336390.243,389383.819 L 336383.499,389382.187 L 336368.006,389378.977 L 336365.526,389378.464 L 336360.289,389377.379 L 336355.799,389376.449 L 336355.481,389376.383 L 336355.33,389376.352 L 336355.0,389376.283 L 336346.483,389374.519 L 336339.5,389373.072 L 336338.287,389372.821 L 336335.197,389372.181 L 336327.256,389370.535 L 336324.305,389369.924 L 336323.539,389369.765 L 336291.025,389363.029 L 336276.051,389359.927 L 336272.57,389359.206 L 336252.653,389355.08 L 336252.017,389354.948 L 336231.0,389350.594 L 336229.852,389350.319 L 336219.193,389347.766 L 336218.518,389347.604 L 336218.184,389347.524 L 336217.322,389347.317 L 336213.5,389346.402 L 336207.448,389344.952 L 336206.34,389344.687 L 336199.612,389343.075 L 336195.886,389342.183 L 336191.701,389341.181 L 336174.014,389336.944 L 336171.058,389336.236 L 336170.648,389336.138 L 336170.522,389336.108 L 336170.47,389336.096 L 336170.33,389336.062 L 336170.004,389335.984 L 336147.933,389330.698 L 336147.5,389330.594 L 336139.139,389328.716 L 336135.284,389327.849 L 336126.622,389325.903 L 336124.172,389325.353 L 336113.835,389323.03 L 336113.004,389322.844 L 336093.201,389318.395 L 336088.889,389317.426 L 336081.852,389315.845 L 336072.038,389313.64 L 336065.93,389312.268 L 336051.447,389309.015 L 336051.31,389308.983 L 336049.242,389308.518 L 336040.863,389306.637 L 336030.837,389353.117 L 336034.845,389353.048 L 336061.052,389352.593 L 336063.911,389354.849 L 336072.282,389363.194 L 336075.156,389367.6 L 336078.338,389368.265 L 336101.0,389373.0 L 336116.388,389376.51 L 336158.0,389386.0 L 336155.847,389396.049 L 336155.0,389400.0 L 336152.614,389410.737 L 336147.735,389429.629 L 336148.3,389430.152 L 336146.141,389439.866 L 336143.0,389454.0 L 336137.0,389480.0 L 336135.64,389485.438 L 336132.0,389500.0 L 336126.521,389523.741 L 336126.0,389526.0 L 336123.999,389534.621 L 336121.822,389543.998 L 336121.095,389547.128 L 336116.946,389565.0 L 336116.89,389565.242 L 336114.077,389577.359 L 336113.0,389582.001 L 336109.952,389593.176 L 336107.277,389602.984 L 336107.0,389604.0 L 336106.581,389605.672 L 336106.0,389608.0 L 336102.999,389621.0 L 336102.999,389625.0 L 336103.358,389628.58 z\" /></g></svg>"
      ],
      "text/plain": [
       "<shapely.geometry.polygon.Polygon at 0x7f6458901c50>"
      ]
     },
     "execution_count": 63,
     "metadata": {},
     "output_type": "execute_result"
    }
   ],
   "source": [
    "lsoas.loc[0, 'geometry']"
   ]
  },
  {
   "cell_type": "markdown",
   "metadata": {},
   "source": [
    "* Lines"
   ]
  },
  {
   "cell_type": "markdown",
   "metadata": {},
   "source": [
    "Displaying lines is as straight-forward as polygons. To load railway tunnels in Liverpool:"
   ]
  },
  {
   "cell_type": "code",
   "execution_count": 81,
   "metadata": {
    "collapsed": false
   },
   "outputs": [
    {
     "name": "stdout",
     "output_type": "stream",
     "text": [
      "<class 'geopandas.geodataframe.GeoDataFrame'>\n",
      "Index: 44 entries, 0ACD196C321E4F8DE050A00A568A6F6F to 0ACD196C313D4F8DE050A00A568A6F6F\n",
      "Data columns (total 2 columns):\n",
      "featcode    44 non-null float64\n",
      "geometry    44 non-null object\n",
      "dtypes: float64(1), object(1)\n",
      "memory usage: 1.0+ KB\n"
     ]
    }
   ],
   "source": [
    "rwy_tun = gpd.read_file(los_dir + 'RailwayTunnel.shp')\\\n",
    "             .set_index('id')\n",
    "rwy_tun.info()"
   ]
  },
  {
   "cell_type": "markdown",
   "metadata": {},
   "source": [
    "Note how we have also indexed the table on the `id` column.\n",
    "\n",
    "A quick plot is similarly generated by (mind that because there are over 18,000 segments, this may take a little bit):"
   ]
  },
  {
   "cell_type": "code",
   "execution_count": 67,
   "metadata": {
    "collapsed": false
   },
   "outputs": [
    {
     "data": {
      "text/plain": [
       "<matplotlib.axes._subplots.AxesSubplot at 0x7f6452ac2490>"
      ]
     },
     "execution_count": 67,
     "metadata": {},
     "output_type": "execute_result"
    },
    {
     "data": {
      "image/png": "[encoded data removed]",
      "text/plain": [
       "<matplotlib.figure.Figure at 0x7f6452ac2e90>"
      ]
     },
     "metadata": {},
     "output_type": "display_data"
    }
   ],
   "source": [
    "rwy_tun.plot()"
   ]
  },
  {
   "cell_type": "markdown",
   "metadata": {},
   "source": [
    "Again, this is not the prettiest way to display the roads maybe, and you might want to change a few parameters such as colors, etc. All of this is possible, as we will see below, but this gives us an easy check of what lines look like."
   ]
  },
  {
   "cell_type": "markdown",
   "metadata": {},
   "source": [
    "---\n",
    "\n",
    "**[In-class exercise]**\n",
    "\n",
    "Obtain the graphical representation of the line with `id` = `0ACD196C32214F8DE050A00A568A6F6F`.\n",
    "\n",
    "---"
   ]
  },
  {
   "cell_type": "markdown",
   "metadata": {},
   "source": [
    "* Points"
   ]
  },
  {
   "cell_type": "markdown",
   "metadata": {},
   "source": [
    "Finally, points follow a similar structure. If we want to represent named places in Liverpool:"
   ]
  },
  {
   "cell_type": "code",
   "execution_count": 83,
   "metadata": {
    "collapsed": false
   },
   "outputs": [
    {
     "data": {
      "text/html": [
       "<div>\n",
       "<table border=\"1\" class=\"dataframe\">\n",
       "  <thead>\n",
       "    <tr style=\"text-align: right;\">\n",
       "      <th></th>\n",
       "      <th>classifica</th>\n",
       "      <th>distname</th>\n",
       "      <th>featcode</th>\n",
       "      <th>fontheight</th>\n",
       "      <th>geometry</th>\n",
       "      <th>htmlname</th>\n",
       "      <th>id</th>\n",
       "      <th>orientatio</th>\n",
       "    </tr>\n",
       "  </thead>\n",
       "  <tbody>\n",
       "    <tr>\n",
       "      <th>0</th>\n",
       "      <td>Hydrography</td>\n",
       "      <td>Sugar Brook</td>\n",
       "      <td>15804</td>\n",
       "      <td>Small</td>\n",
       "      <td>POINT (339605 396261)</td>\n",
       "      <td>Sugar Brook</td>\n",
       "      <td>0EE7A103C03A8FBFE050A00A568A2502</td>\n",
       "      <td>25</td>\n",
       "    </tr>\n",
       "    <tr>\n",
       "      <th>1</th>\n",
       "      <td>Landcover</td>\n",
       "      <td>Sandfield Park</td>\n",
       "      <td>15805</td>\n",
       "      <td>Small</td>\n",
       "      <td>POINT (339758 392357)</td>\n",
       "      <td>Sandfield Park</td>\n",
       "      <td>0EE7A104A4B68FBFE050A00A568A2502</td>\n",
       "      <td>0</td>\n",
       "    </tr>\n",
       "    <tr>\n",
       "      <th>2</th>\n",
       "      <td>Populated Place</td>\n",
       "      <td>Sandfield Park</td>\n",
       "      <td>15801</td>\n",
       "      <td>Medium</td>\n",
       "      <td>POINT (339768 392217)</td>\n",
       "      <td>Sandfield Park</td>\n",
       "      <td>0EE7A1041DB18FBFE050A00A568A2502</td>\n",
       "      <td>0</td>\n",
       "    </tr>\n",
       "    <tr>\n",
       "      <th>3</th>\n",
       "      <td>Populated Place</td>\n",
       "      <td>Gillmoss</td>\n",
       "      <td>15801</td>\n",
       "      <td>Medium</td>\n",
       "      <td>POINT (340269 396567)</td>\n",
       "      <td>Gillmoss</td>\n",
       "      <td>0EE7A1041DE48FBFE050A00A568A2502</td>\n",
       "      <td>0</td>\n",
       "    </tr>\n",
       "    <tr>\n",
       "      <th>4</th>\n",
       "      <td>Populated Place</td>\n",
       "      <td>Croxteth</td>\n",
       "      <td>15801</td>\n",
       "      <td>Medium</td>\n",
       "      <td>POINT (340296 395304)</td>\n",
       "      <td>Croxteth</td>\n",
       "      <td>0EE7A1041DE58FBFE050A00A568A2502</td>\n",
       "      <td>0</td>\n",
       "    </tr>\n",
       "  </tbody>\n",
       "</table>\n",
       "</div>"
      ],
      "text/plain": [
       "        classifica        distname  featcode fontheight  \\\n",
       "0      Hydrography     Sugar Brook     15804      Small   \n",
       "1        Landcover  Sandfield Park     15805      Small   \n",
       "2  Populated Place  Sandfield Park     15801     Medium   \n",
       "3  Populated Place        Gillmoss     15801     Medium   \n",
       "4  Populated Place        Croxteth     15801     Medium   \n",
       "\n",
       "                geometry        htmlname                                id  \\\n",
       "0  POINT (339605 396261)     Sugar Brook  0EE7A103C03A8FBFE050A00A568A2502   \n",
       "1  POINT (339758 392357)  Sandfield Park  0EE7A104A4B68FBFE050A00A568A2502   \n",
       "2  POINT (339768 392217)  Sandfield Park  0EE7A1041DB18FBFE050A00A568A2502   \n",
       "3  POINT (340269 396567)        Gillmoss  0EE7A1041DE48FBFE050A00A568A2502   \n",
       "4  POINT (340296 395304)        Croxteth  0EE7A1041DE58FBFE050A00A568A2502   \n",
       "\n",
       "   orientatio  \n",
       "0          25  \n",
       "1           0  \n",
       "2           0  \n",
       "3           0  \n",
       "4           0  "
      ]
     },
     "execution_count": 83,
     "metadata": {},
     "output_type": "execute_result"
    }
   ],
   "source": [
    "namp = gpd.read_file(los_dir + 'NamedPlace.shp')\n",
    "namp.head()"
   ]
  },
  {
   "cell_type": "markdown",
   "metadata": {},
   "source": [
    "And the plot is produced by running:"
   ]
  },
  {
   "cell_type": "code",
   "execution_count": 84,
   "metadata": {
    "collapsed": false
   },
   "outputs": [
    {
     "data": {
      "text/plain": [
       "<matplotlib.axes._subplots.AxesSubplot at 0x7f644ddadcd0>"
      ]
     },
     "execution_count": 84,
     "metadata": {},
     "output_type": "execute_result"
    },
    {
     "data": {
      "image/png": "[encoded data removed]",
      "text/plain": [
       "<matplotlib.figure.Figure at 0x7f644fcb0c10>"
      ]
     },
     "metadata": {},
     "output_type": "display_data"
    }
   ],
   "source": [
    "namp.plot()"
   ]
  },
  {
   "cell_type": "markdown",
   "metadata": {},
   "source": [
    "## Styling plots"
   ]
  },
  {
   "cell_type": "markdown",
   "metadata": {},
   "source": [
    "* Changing transparency"
   ]
  },
  {
   "cell_type": "markdown",
   "metadata": {},
   "source": [
    "* Removing axes"
   ]
  },
  {
   "cell_type": "markdown",
   "metadata": {},
   "source": [
    "* Removing borders"
   ]
  },
  {
   "cell_type": "markdown",
   "metadata": {},
   "source": [
    "* Choosing different colors"
   ]
  },
  {
   "cell_type": "markdown",
   "metadata": {},
   "source": [
    "* Transforming CRS"
   ]
  },
  {
   "cell_type": "markdown",
   "metadata": {},
   "source": [
    "## Composing multi-layer maps"
   ]
  },
  {
   "cell_type": "markdown",
   "metadata": {},
   "source": [
    "* Build a map"
   ]
  },
  {
   "cell_type": "markdown",
   "metadata": {},
   "source": [
    "* Save it into an image"
   ]
  },
  {
   "cell_type": "markdown",
   "metadata": {},
   "source": [
    "## Manipulating spatial tables (`GeoDataFrames`)"
   ]
  },
  {
   "cell_type": "markdown",
   "metadata": {},
   "source": [
    "### Non-spatial manipulations"
   ]
  },
  {
   "cell_type": "markdown",
   "metadata": {},
   "source": [
    "### Spatial manipulations"
   ]
  },
  {
   "cell_type": "markdown",
   "metadata": {},
   "source": [
    "* Centroid calculation"
   ]
  },
  {
   "cell_type": "markdown",
   "metadata": {},
   "source": [
    "* Point in polygon (PiP)"
   ]
  },
  {
   "cell_type": "markdown",
   "metadata": {},
   "source": [
    "* Spatial joins"
   ]
  },
  {
   "cell_type": "markdown",
   "metadata": {},
   "source": [
    "* Spatial aggregations"
   ]
  },
  {
   "cell_type": "markdown",
   "metadata": {},
   "source": [
    "* Buffers"
   ]
  },
  {
   "cell_type": "markdown",
   "metadata": {},
   "source": [
    "## `[Extension I]` Advanced cartography with `cartopy`"
   ]
  },
  {
   "cell_type": "markdown",
   "metadata": {},
   "source": [
    "## `[Extension II]` Adding base layers from satelite imagery"
   ]
  },
  {
   "cell_type": "markdown",
   "metadata": {},
   "source": [
    "---\n",
    "\n",
    "<a rel=\"license\" href=\"http://creativecommons.org/licenses/by-nc-sa/4.0/\"><img alt=\"Creative Commons License\" style=\"border-width:0\" src=\"https://i.creativecommons.org/l/by-nc-sa/4.0/88x31.png\" /></a><br /><span xmlns:dct=\"http://purl.org/dc/terms/\" property=\"dct:title\">Geographic Data Science'15 - Lab 1</span> by <a xmlns:cc=\"http://creativecommons.org/ns#\" href=\"http://darribas.org\" property=\"cc:attributionName\" rel=\"cc:attributionURL\">Dani Arribas-Bel</a> is licensed under a <a rel=\"license\" href=\"http://creativecommons.org/licenses/by-nc-sa/4.0/\">Creative Commons Attribution-NonCommercial-ShareAlike 4.0 International License</a>.\n",
    "\n"
   ]
  }
 ],
 "metadata": {
  "kernelspec": {
   "display_name": "Python 2",
   "language": "python",
   "name": "python2"
  },
  "language_info": {
   "codemirror_mode": {
    "name": "ipython",
    "version": 2
   },
   "file_extension": ".py",
   "mimetype": "text/x-python",
   "name": "python",
   "nbconvert_exporter": "python",
   "pygments_lexer": "ipython2",
   "version": "2.7.10"
  }
 },
 "nbformat": 4,
 "nbformat_minor": 0
}
